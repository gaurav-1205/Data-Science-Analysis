{
 "cells": [
  {
   "cell_type": "code",
   "execution_count": 1,
   "metadata": {},
   "outputs": [],
   "source": [
    "#importing the required modules\n",
    "import numpy as np\n",
    "import pandas as pd\n",
    "from scipy import stats\n",
    "import csv"
   ]
  },
  {
   "cell_type": "code",
   "execution_count": 2,
   "metadata": {},
   "outputs": [],
   "source": [
    "#Converting the dat file to csv file\n",
    "\n",
    "# read testdata.dat to a list of lists\n",
    "datContent = [i.strip().split() for i in open(\"./HIP_star.dat\").readlines()]\n",
    "\n",
    "# write it as a new CSV file\n",
    "with open(\"./HIP_star.csv\", \"w\") as f:\n",
    "    writer = csv.writer(f)\n",
    "    writer.writerows(datContent)\n",
    "    \n",
    "#Reading the csv file\n",
    "data = pd.read_csv('HIP_star.csv')"
   ]
  },
  {
   "cell_type": "code",
   "execution_count": 3,
   "metadata": {},
   "outputs": [],
   "source": [
    "#Creating a seperate dataframe for the hyades stars by checking all the conditions\n",
    "hyades = data[data['RA']>50]\n",
    "hyades = hyades[hyades['RA']<100]\n",
    "hyades = hyades[hyades['DE']>0]\n",
    "hyades = hyades[hyades['DE']<25]\n",
    "hyades = hyades[hyades['pmRA']>90]\n",
    "hyades = hyades[hyades['pmRA']<130]\n",
    "hyades = hyades[hyades['pmDE']>-60]\n",
    "hyades = hyades[hyades['pmDE']<-10]\n",
    "hyades = hyades[hyades['e_Plx']<5]\n",
    "hyades = hyades[hyades['B-V']<0.2]"
   ]
  },
  {
   "cell_type": "code",
   "execution_count": 4,
   "metadata": {},
   "outputs": [],
   "source": [
    "#Creating a seperate dataframe for the non-hyades stars\n",
    "df = pd.concat([data, hyades])\n",
    "non_hyades = df.drop_duplicates(keep=False)"
   ]
  },
  {
   "cell_type": "code",
   "execution_count": 5,
   "metadata": {},
   "outputs": [],
   "source": [
    "#storing the color values in a seperate numpy array and dropping the nan values\n",
    "data1 = hyades['B-V'].values\n",
    "data2 = non_hyades['B-V'].values\n",
    "data2 = data2[~np.isnan(data2)]"
   ]
  },
  {
   "cell_type": "code",
   "execution_count": 6,
   "metadata": {},
   "outputs": [
    {
     "name": "stdout",
     "output_type": "stream",
     "text": [
      "The variance of hyades color array is : 0.001848\n",
      "The variance of non-hyades color array is : 0.1005452291583095\n"
     ]
    }
   ],
   "source": [
    "#Checking if both arrays have same variances\n",
    "v1 = np.var(data1)\n",
    "v2 = np.var(data2)\n",
    "\n",
    "print(\"The variance of hyades color array is :\", v1)\n",
    "print(\"The variance of non-hyades color array is :\", v2)"
   ]
  },
  {
   "cell_type": "code",
   "execution_count": null,
   "metadata": {},
   "outputs": [],
   "source": [
    "\"\"\"\n",
    "This shows that we have unequal number of samples as well as the variance. So we use ttest_ind from scipy stats\n",
    "with unequal variances specified in the argument\n",
    "\"\"\""
   ]
  },
  {
   "cell_type": "code",
   "execution_count": 7,
   "metadata": {},
   "outputs": [
    {
     "name": "stdout",
     "output_type": "stream",
     "text": [
      "The value of the t-statistic is :  -31.11637042772193\n",
      "The p-value of the 2 sample t-test is :  6.304323199545688e-08\n"
     ]
    }
   ],
   "source": [
    "#This is the 2 sample t-test\n",
    "stat, p_val = stats.ttest_ind(data1, data2, equal_var=False)\n",
    "\n",
    "print(\"The value of the t-statistic is : \",stat)\n",
    "print(\"The p-value of the 2 sample t-test is : \",p_val)"
   ]
  },
  {
   "cell_type": "code",
   "execution_count": null,
   "metadata": {},
   "outputs": [],
   "source": [
    "\"\"\"\n",
    "As we can see that the p value is less than 0.05, we can reject our null hypothesis that the colors of hyades\n",
    "and non-hyades stars are same.\n",
    "So the two star categories don't have the same color. \n",
    "\"\"\""
   ]
  }
 ],
 "metadata": {
  "kernelspec": {
   "display_name": "Python 2",
   "language": "python",
   "name": "python2"
  },
  "language_info": {
   "codemirror_mode": {
    "name": "ipython",
    "version": 2
   },
   "file_extension": ".py",
   "mimetype": "text/x-python",
   "name": "python",
   "nbconvert_exporter": "python",
   "pygments_lexer": "ipython2",
   "version": "2.7.15rc1"
  }
 },
 "nbformat": 4,
 "nbformat_minor": 2
}
