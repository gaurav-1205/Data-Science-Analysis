{
 "cells": [
  {
   "cell_type": "code",
   "execution_count": 1,
   "metadata": {},
   "outputs": [],
   "source": [
    "#The linear model is considered as the null hypothesis\n",
    "#Import the required modules\n",
    "import numpy as np\n",
    "import matplotlib.pyplot as plt\n",
    "import pandas as pd\n",
    "from scipy import optimize, stats\n",
    "import csv"
   ]
  },
  {
   "cell_type": "code",
   "execution_count": 2,
   "metadata": {},
   "outputs": [],
   "source": [
    "#Convert the dat file to csv file\n",
    "# read testdata.dat to a list of lists\n",
    "datContent = [i.strip().split() for i in open(\"./testdata.dat\").readlines()]\n",
    "\n",
    "# write it as a new CSV file\n",
    "with open(\"./testdata.csv\", \"w\") as f:\n",
    "    writer = csv.writer(f)\n",
    "    writer.writerows(datContent)"
   ]
  },
  {
   "cell_type": "code",
   "execution_count": 3,
   "metadata": {},
   "outputs": [],
   "source": [
    "#read the csv file\n",
    "global data, x, y, sigma_y, val1, val2, val3  #defined as global so all functions can access these values\n",
    "data = pd.read_csv('testdata.csv')\n",
    "x = data['x']\n",
    "y = data['y']\n",
    "sigma_y = data['sigma_y']\n",
    "\n",
    "#initialise theta for all the fits to zero\n",
    "val1 = np.array([0, 0])\n",
    "val2 = np.array([0, 0, 0])\n",
    "val3 = np.array([0, 0, 0, 0])"
   ]
  },
  {
   "cell_type": "code",
   "execution_count": 4,
   "metadata": {},
   "outputs": [],
   "source": [
    "#Defining the required functions for fitting\n",
    "def linearFunc(x, val1):\n",
    "    return val1[1]*x+val1[0]\n",
    "\n",
    "def quadraticFunc(x, val2):\n",
    "    return val2[2]*x**2 + val2[1]*x + val2[0]\n",
    "\n",
    "def cubicFunc(x, val3):\n",
    "    return val3[3]*x**3 + val3[2]*x**2 + val3[1]*x + val3[0]"
   ]
  },
  {
   "cell_type": "code",
   "execution_count": 5,
   "metadata": {},
   "outputs": [],
   "source": [
    "#The log-likelihood function\n",
    "#The log-likelihood function is maximum for best fitting value of theta\n",
    "def logL(theta, n):\n",
    "    if n==1:\n",
    "        y_fit = linearFunc(x, theta)\n",
    "    elif n==2:\n",
    "        y_fit = quadraticFunc(x, theta)\n",
    "    elif n==3:\n",
    "        y_fit = cubicFunc(x, theta)\n",
    "    return sum(stats.norm.logpdf(*args)\n",
    "               for args in zip(y, y_fit, sigma_y))"
   ]
  },
  {
   "cell_type": "code",
   "execution_count": 6,
   "metadata": {},
   "outputs": [],
   "source": [
    "#This function returns the best theta for the fitting\n",
    "def best_theta(n, theta_val):\n",
    "    if n==1:\n",
    "        theta_0 = (n+1)*[0]\n",
    "        neg_logL = lambda theta: -logL(theta, 1)\n",
    "        return optimize.fmin_bfgs(neg_logL, theta_0, disp=False)\n",
    "    if n==2:\n",
    "        theta_0 = (n+1)*[0]\n",
    "        neg_logL = lambda theta: -logL(theta, 2)\n",
    "        return optimize.fmin_bfgs(neg_logL, theta_0, disp=False)\n",
    "    if n==3:\n",
    "        theta_0 = (n+1)*[0]\n",
    "        neg_logL = lambda theta: -logL(theta, 3)\n",
    "        return optimize.fmin_bfgs(neg_logL, theta_0, disp=False)"
   ]
  },
  {
   "cell_type": "code",
   "execution_count": 7,
   "metadata": {},
   "outputs": [],
   "source": [
    "#compute chi2 likelihood for frequentist\n",
    "def compute_chi2(n):\n",
    "    if n==1:\n",
    "        theta = best_theta(n, val1)\n",
    "        resid = ((y - linearFunc(x, theta)) / sigma_y)\n",
    "    elif n==2:\n",
    "        theta = best_theta(n, val2)\n",
    "        resid = ((y - quadraticFunc(x, theta)) / sigma_y)\n",
    "    elif n==3:\n",
    "        theta = best_theta(n, val3)\n",
    "        resid = ((y - cubicFunc(x, theta)) / sigma_y)\n",
    "\n",
    "    return np.sum(resid ** 2)\n",
    "\n",
    "def compute_dof(degree, data=data):\n",
    "    return data.shape[0] - (degree + 1)\n",
    "\n",
    "def chi2_likelihood(n):\n",
    "    chi2 = compute_chi2(n)\n",
    "    dof = compute_dof(n)\n",
    "    return stats.chi2(dof).pdf(chi2)"
   ]
  },
  {
   "cell_type": "code",
   "execution_count": 8,
   "metadata": {},
   "outputs": [],
   "source": [
    "#Compute the p value for the fit using linear model as the null hypothesis\n",
    "def p_val(n):\n",
    "    return 1-stats.chi2(n-1).cdf(compute_chi2(1) - compute_chi2(n))"
   ]
  },
  {
   "cell_type": "code",
   "execution_count": 9,
   "metadata": {},
   "outputs": [],
   "source": [
    "#Compute the optimized values of the parameters\n",
    "r1 = best_theta(1, val1)\n",
    "r2 = best_theta(2, val2)\n",
    "r3 = best_theta(3, val3)"
   ]
  },
  {
   "cell_type": "code",
   "execution_count": 10,
   "metadata": {},
   "outputs": [
    {
     "name": "stdout",
     "output_type": "stream",
     "text": [
      "Log L values\n",
      "linear model:    logL = 22.01834340803627\n",
      "quadratic model: logL = 22.924910312002723\n",
      "cubic model:    logL = 23.13040925879735\n"
     ]
    }
   ],
   "source": [
    "print(\"Log L values\")\n",
    "print(\"linear model:    logL =\", logL(best_theta(1, val1), 1))\n",
    "print(\"quadratic model: logL =\", logL(best_theta(2, val2), 2))\n",
    "print(\"cubic model:    logL =\", logL(best_theta(3, val3), 3))"
   ]
  },
  {
   "cell_type": "code",
   "execution_count": 11,
   "metadata": {},
   "outputs": [
    {
     "name": "stdout",
     "output_type": "stream",
     "text": [
      "chi2 likelihood\n",
      "- linear model:     0.045383795585920046\n",
      "- quadratic model:  0.036608447550142253\n",
      "- cubic model:  0.04215280601014979\n"
     ]
    }
   ],
   "source": [
    "print(\"chi2 likelihood\")\n",
    "print(\"- linear model:    \", chi2_likelihood(1))\n",
    "print(\"- quadratic model: \", chi2_likelihood(2))\n",
    "print(\"- cubic model: \", chi2_likelihood(3))"
   ]
  },
  {
   "cell_type": "code",
   "execution_count": 12,
   "metadata": {},
   "outputs": [
    {
     "name": "stdout",
     "output_type": "stream",
     "text": [
      "p_values\n",
      "- quadratic model:  0.1781327569531711\n",
      "- cubic model:  0.32887884419649793\n"
     ]
    }
   ],
   "source": [
    "print(\"p_values\") #The p value for null hypothesis will not be defined as the delta chi square value is zero\n",
    "print(\"- quadratic model: \", p_val(2))\n",
    "print(\"- cubic model: \", p_val(3))"
   ]
  },
  {
   "cell_type": "code",
   "execution_count": 13,
   "metadata": {
    "collapsed": true
   },
   "outputs": [
    {
     "data": {
      "text/plain": [
       "'\\nFrom the p values of frequentist analysis, as both the p values are greater than 0.05, we can not reject our\\nNull Hypothesis.\\n'"
      ]
     },
     "execution_count": 13,
     "metadata": {},
     "output_type": "execute_result"
    }
   ],
   "source": [
    "\"\"\"\n",
    "From the p values of frequentist analysis, as both the p values are greater than 0.05, we can not reject our\n",
    "Null Hypothesis.\n",
    "\"\"\""
   ]
  },
  {
   "cell_type": "code",
   "execution_count": 14,
   "metadata": {},
   "outputs": [],
   "source": [
    "\"\"\"Bayesian Analysis\"\"\"\n",
    "#Compute the AICc values as number of data points is considerably small\n",
    "AIC1 = -2*logL(r1, 1) + (2.0*2*20)/(17.0)\n",
    "AIC2 = -2*logL(r2, 2) + (2.0*3*20)/(16.0)\n",
    "AIC3 = -2*logL(r3, 3) + (2.0*4*20)/(15.0)\n",
    "\n",
    "#Compute the BIC values\n",
    "BIC1 = -2*logL(r1, 1) + 2*np.log(x.shape[0])\n",
    "BIC2 = -2*logL(r2, 2) + 3*np.log(x.shape[0])\n",
    "BIC3 = -2*logL(r3, 3) + 4*np.log(x.shape[0])"
   ]
  },
  {
   "cell_type": "code",
   "execution_count": 15,
   "metadata": {},
   "outputs": [
    {
     "name": "stdout",
     "output_type": "stream",
     "text": [
      "AICc values\n",
      "- linear model:     -39.330804463131365\n",
      "- quadratic model:  -38.349820624005446\n",
      "- cubic model:  -35.594151850928036\n"
     ]
    }
   ],
   "source": [
    "print(\"AICc values\")\n",
    "print(\"- linear model:    \", AIC1)\n",
    "print(\"- quadratic model: \", AIC2)\n",
    "print(\"- cubic model: \", AIC3)"
   ]
  },
  {
   "cell_type": "code",
   "execution_count": 16,
   "metadata": {},
   "outputs": [
    {
     "name": "stdout",
     "output_type": "stream",
     "text": [
      "Delta AIC values\n",
      "- linear model:     0.0\n",
      "- quadratic model:  0.9809838391259191\n",
      "- cubic model:  3.7366526122033292\n"
     ]
    }
   ],
   "source": [
    "#Computing delta AIC\n",
    "AIC_min = min(AIC1, AIC2, AIC3)\n",
    "print(\"Delta AIC values\")\n",
    "print(\"- linear model:    \", AIC1-AIC_min)\n",
    "print(\"- quadratic model: \", AIC2-AIC_min)\n",
    "print(\"- cubic model: \", AIC3-AIC_min)"
   ]
  },
  {
   "cell_type": "code",
   "execution_count": 17,
   "metadata": {
    "collapsed": true
   },
   "outputs": [
    {
     "data": {
      "text/plain": [
       "'\\nFor quadratic model, 0 < delta AIC < 2, which implies that quadratic model also has a substantial support.\\nFor cubic model, 2 < delta AIC < 4, which implies that cubic model has cosiderably less support.\\n'"
      ]
     },
     "execution_count": 17,
     "metadata": {},
     "output_type": "execute_result"
    }
   ],
   "source": [
    "\"\"\"\n",
    "For quadratic model, 0 < delta AIC < 2, which implies that quadratic model also has a substantial support.\n",
    "For cubic model, 2 < delta AIC < 4, which implies that cubic model has cosiderably less support.\n",
    "\"\"\""
   ]
  },
  {
   "cell_type": "code",
   "execution_count": 18,
   "metadata": {},
   "outputs": [
    {
     "name": "stdout",
     "output_type": "stream",
     "text": [
      "BIC vlaues\n",
      "- linear model:     -38.04522226896456\n",
      "- quadratic model:  -36.862623803343475\n",
      "- cubic model:  -34.27788942337874\n"
     ]
    }
   ],
   "source": [
    "print(\"BIC vlaues\")\n",
    "print(\"- linear model:    \", BIC1)\n",
    "print(\"- quadratic model: \", BIC2)\n",
    "print(\"- cubic model: \", BIC3)"
   ]
  },
  {
   "cell_type": "code",
   "execution_count": 19,
   "metadata": {},
   "outputs": [
    {
     "name": "stdout",
     "output_type": "stream",
     "text": [
      "Delta BIC values\n",
      "- linear model:     0.0\n",
      "- quadratic model:  1.1825984656210835\n",
      "- cubic model:  3.7673328455858197\n"
     ]
    }
   ],
   "source": [
    "#Computing delta BIC\n",
    "BIC_min = min(BIC1, BIC2, BIC3)\n",
    "print(\"Delta BIC values\")\n",
    "print(\"- linear model:    \", BIC1-BIC_min)\n",
    "print(\"- quadratic model: \", BIC2-BIC_min)\n",
    "print(\"- cubic model: \", BIC3-BIC_min)"
   ]
  },
  {
   "cell_type": "code",
   "execution_count": 20,
   "metadata": {
    "collapsed": true
   },
   "outputs": [
    {
     "data": {
      "text/plain": [
       "'\\nFor quadratic model, 0 < delta BIC < 2, which implies that there is no evidence against quadratic model.\\nFor cubic model, 2 < delta AIC < 4, which implies that there is positive evidence against cubic model.\\n'"
      ]
     },
     "execution_count": 20,
     "metadata": {},
     "output_type": "execute_result"
    }
   ],
   "source": [
    "\"\"\"\n",
    "For quadratic model, 0 < delta BIC < 2, which implies that there is no evidence against quadratic model.\n",
    "For cubic model, 2 < delta AIC < 4, which implies that there is positive evidence against cubic model.\n",
    "\"\"\""
   ]
  },
  {
   "cell_type": "code",
   "execution_count": 21,
   "metadata": {},
   "outputs": [
    {
     "data": {
      "image/png": "[encoded data removed]",
      "text/plain": [
       "<Figure size 720x720 with 1 Axes>"
      ]
     },
     "metadata": {
      "needs_background": "light"
     },
     "output_type": "display_data"
    }
   ],
   "source": [
    "\"\"\"Plotting\"\"\"\n",
    "t =  np.linspace(0, 1, 1000)\n",
    "fig, ax = plt.subplots(figsize=(10, 10))\n",
    "plt.plot(t, linearFunc(t, r1), label='linear_fitting')\n",
    "plt.plot(t, quadraticFunc(t, r2), label='quadratic_fitting')\n",
    "plt.plot(t, cubicFunc(t, r3), label='cubic_fitting')\n",
    "plt.legend()\n",
    "plt.xlabel('$x$')\n",
    "plt.ylabel('$y$')\n",
    "plt.title(\"Curve fitting using Linear, Quadratic and Cubic Models\", size=15)\n",
    "ax.errorbar(x, y, sigma_y, fmt='ok', ecolor = 'gray')\n",
    "plt.show()"
   ]
  }
 ],
 "metadata": {
  "kernelspec": {
   "display_name": "Python 2",
   "language": "python",
   "name": "python2"
  },
  "language_info": {
   "codemirror_mode": {
    "name": "ipython",
    "version": 2
   },
   "file_extension": ".py",
   "mimetype": "text/x-python",
   "name": "python",
   "nbconvert_exporter": "python",
   "pygments_lexer": "ipython2",
   "version": "2.7.15rc1"
  }
 },
 "nbformat": 4,
 "nbformat_minor": 2
}
