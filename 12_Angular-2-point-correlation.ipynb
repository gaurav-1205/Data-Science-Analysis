{
 "cells": [
  {
   "cell_type": "code",
   "execution_count": 1,
   "metadata": {},
   "outputs": [],
   "source": [
    "import numpy as np\n",
    "import matplotlib.pyplot as plt\n",
    "import pandas as pd\n",
    "import csv\n",
    "from astroML.correlation import bootstrap_two_point_angular"
   ]
  },
  {
   "cell_type": "code",
   "execution_count": 2,
   "metadata": {},
   "outputs": [],
   "source": [
    "#This cell will convert the txt to csv\n",
    "datContent = [i.strip().split() for i in open(\"BCS05hr_reduced.txt\").readlines()]\n",
    "with open(\"BCS05hr_reduced.csv\", \"wb\") as f:\n",
    "    writer = csv.writer(f)\n",
    "    writer.writerows(datContent)\n"
   ]
  },
  {
   "cell_type": "code",
   "execution_count": 3,
   "metadata": {},
   "outputs": [],
   "source": [
    "#Applying the given constraints\n",
    "data  = pd.read_csv('BCS05hr_reduced.csv')\n",
    "data = data[data['r-mag']<20]\n",
    "data = data[data['r-mag']>17]\n",
    "data = data[data['spread_model']>0.002]"
   ]
  },
  {
   "cell_type": "code",
   "execution_count": 4,
   "metadata": {},
   "outputs": [],
   "source": [
    "# function to compute Two point angular coorealtaion\n",
    "def two_point_correlation(N):\n",
    "    np.random.seed(0)\n",
    "    bins = 10 ** np.linspace(np.log10(1. / 60.), np.log10(6), 16)\n",
    "    results = [bins]\n",
    "    for D in [data]:\n",
    "        results += bootstrap_two_point_angular(D['#RA'],D['DEC'],bins=bins,method='landy-szalay',Nbootstraps=N)\n",
    "    return results\n"
   ]
  },
  {
   "cell_type": "code",
   "execution_count": 5,
   "metadata": {},
   "outputs": [],
   "source": [
    "#Calculating Two point angular coorealtaion\n",
    "(bins, r_corr, r_corr_err, r_bootstraps) = two_point_correlation(10)"
   ]
  },
  {
   "cell_type": "code",
   "execution_count": 6,
   "metadata": {},
   "outputs": [
    {
     "data": {
      "image/png": "[encoded data removed]",
      "text/plain": [
       "<Figure size 432x288 with 1 Axes>"
      ]
     },
     "metadata": {
      "needs_background": "light"
     },
     "output_type": "display_data"
    }
   ],
   "source": [
    "# PLot the results\n",
    "bin_centers = 0.5 * (bins[1:] + bins[:-1])\n",
    "corr = [r_corr]\n",
    "corr_err = [r_corr_err]\n",
    "bootstraps = [r_bootstraps]\n",
    "plt.errorbar(bin_centers, corr[0], corr_err[0],fmt='.k', ecolor='gray', lw=1)\n",
    "plt.xscale('log')\n",
    "plt.yscale('linear')\n",
    "plt.xlabel(r'$\\theta\\ (deg)$')\n",
    "plt.ylabel(r'$w(\\theta)$')\n",
    "plt.title('Two-point Angular Correlation')\n",
    "plt.show()"
   ]
  }
 ],
 "metadata": {
  "kernelspec": {
   "display_name": "Python 2",
   "language": "python",
   "name": "python2"
  },
  "language_info": {
   "codemirror_mode": {
    "name": "ipython",
    "version": 2
   },
   "file_extension": ".py",
   "mimetype": "text/x-python",
   "name": "python",
   "nbconvert_exporter": "python",
   "pygments_lexer": "ipython2",
   "version": "2.7.15rc1"
  }
 },
 "nbformat": 4,
 "nbformat_minor": 2
}
